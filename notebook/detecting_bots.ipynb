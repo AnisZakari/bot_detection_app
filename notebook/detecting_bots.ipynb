{
 "cells": [
  {
   "cell_type": "code",
   "execution_count": 1,
   "metadata": {},
   "outputs": [],
   "source": [
    "import pandas as pd\n",
    "import numpy as np\n",
    "import seaborn as sns\n",
    "\n",
    "from sklearn.metrics import confusion_matrix\n",
    "from sklearn.metrics import classification_report\n",
    "from sklearn.model_selection import cross_validate\n",
    "\n",
    "from sklearn.feature_extraction.text import CountVectorizer\n",
    "from sklearn.decomposition import PCA\n",
    "from sklearn.preprocessing import StandardScaler\n",
    "from sklearn.model_selection import StratifiedShuffleSplit\n",
    "from sklearn.linear_model import LogisticRegression\n",
    "from sklearn.ensemble import GradientBoostingClassifier\n",
    "from sklearn.ensemble import RandomForestClassifier\n",
    "from sklearn.model_selection import StratifiedShuffleSplit\n",
    "from sklearn.svm import SVC\n",
    "\n",
    "import os\n",
    "import joblib"
   ]
  },
  {
   "cell_type": "code",
   "execution_count": 2,
   "metadata": {},
   "outputs": [],
   "source": [
    "import joblib\n",
    "import pandas as pd\n",
    "import numpy as np"
   ]
  },
  {
   "cell_type": "code",
   "execution_count": 3,
   "metadata": {},
   "outputs": [
    {
     "name": "stdout",
     "output_type": "stream",
     "text": [
      "/Users/Anis/Adevinta/bot_detection_app\n"
     ]
    }
   ],
   "source": [
    "cd .."
   ]
  },
  {
   "cell_type": "markdown",
   "metadata": {},
   "source": [
    "## Overview"
   ]
  },
  {
   "cell_type": "code",
   "execution_count": 4,
   "metadata": {},
   "outputs": [
    {
     "data": {
      "text/plain": [
       "'data/fake_users.csv'"
      ]
     },
     "execution_count": 4,
     "metadata": {},
     "output_type": "execute_result"
    }
   ],
   "source": [
    "os.path.join(\"data\", \"fake_users.csv\")"
   ]
  },
  {
   "cell_type": "code",
   "execution_count": 5,
   "metadata": {},
   "outputs": [],
   "source": [
    "dataset = pd.read_csv(os.path.join(\"data\",\"fake_users.csv\"), index_col = 0)"
   ]
  },
  {
   "cell_type": "code",
   "execution_count": 6,
   "metadata": {},
   "outputs": [
    {
     "name": "stdout",
     "output_type": "stream",
     "text": [
      "<class 'pandas.core.frame.DataFrame'>\n",
      "Int64Index: 100473 entries, 0 to 100472\n",
      "Data columns (total 4 columns):\n",
      " #   Column    Non-Null Count   Dtype \n",
      "---  ------    --------------   ----- \n",
      " 0   UserId    100473 non-null  object\n",
      " 1   Event     100473 non-null  object\n",
      " 2   Category  100473 non-null  object\n",
      " 3   Fake      100473 non-null  int64 \n",
      "dtypes: int64(1), object(3)\n",
      "memory usage: 3.8+ MB\n"
     ]
    }
   ],
   "source": [
    "dataset.info()"
   ]
  },
  {
   "cell_type": "markdown",
   "metadata": {},
   "source": [
    "No missing Data"
   ]
  },
  {
   "cell_type": "code",
   "execution_count": 7,
   "metadata": {},
   "outputs": [
    {
     "name": "stdout",
     "output_type": "stream",
     "text": [
      "0    5000\n",
      "1     300\n",
      "Name: Fake, dtype: int64\n"
     ]
    },
    {
     "data": {
      "text/plain": [
       "<AxesSubplot:ylabel='Fake'>"
      ]
     },
     "execution_count": 7,
     "metadata": {},
     "output_type": "execute_result"
    },
    {
     "data": {
      "image/png": "[encoded data removed]",
      "text/plain": [
       "<Figure size 432x288 with 1 Axes>"
      ]
     },
     "metadata": {},
     "output_type": "display_data"
    }
   ],
   "source": [
    "viz = dataset.groupby(\"UserId\")[\"Fake\"].min().value_counts()\n",
    "print(viz)\n",
    "viz.plot(kind='pie', autopct='%1.1f%%')"
   ]
  },
  {
   "cell_type": "markdown",
   "metadata": {},
   "source": [
    "- The dataset contains logs of a span of five minutes each entry contains the user id, the action that a user made (Event), the category it interacted with (Category) and a column (Fake).\n",
    "- There are 5300 differents users, 5000  (94.3%) are real users, 300 (5.7%) are fake.\n",
    "- Thus, the Dataset is imbalanced\n",
    "- We have 2 columns of interest for the Feature Engineering -- > Event Category"
   ]
  },
  {
   "cell_type": "markdown",
   "metadata": {},
   "source": [
    "### An Example of a Fake user"
   ]
  },
  {
   "cell_type": "code",
   "execution_count": 8,
   "metadata": {},
   "outputs": [
    {
     "data": {
      "text/html": [
       "<div>\n",
       "<style scoped>\n",
       "    .dataframe tbody tr th:only-of-type {\n",
       "        vertical-align: middle;\n",
       "    }\n",
       "\n",
       "    .dataframe tbody tr th {\n",
       "        vertical-align: top;\n",
       "    }\n",
       "\n",
       "    .dataframe thead th {\n",
       "        text-align: right;\n",
       "    }\n",
       "</style>\n",
       "<table border=\"1\" class=\"dataframe\">\n",
       "  <thead>\n",
       "    <tr style=\"text-align: right;\">\n",
       "      <th></th>\n",
       "      <th>UserId</th>\n",
       "      <th>Event</th>\n",
       "      <th>Category</th>\n",
       "      <th>Fake</th>\n",
       "    </tr>\n",
       "  </thead>\n",
       "  <tbody>\n",
       "    <tr>\n",
       "      <th>22</th>\n",
       "      <td>6476A07FCC</td>\n",
       "      <td>send_email</td>\n",
       "      <td>Leisure</td>\n",
       "      <td>1</td>\n",
       "    </tr>\n",
       "    <tr>\n",
       "      <th>719</th>\n",
       "      <td>6476A07FCC</td>\n",
       "      <td>send_email</td>\n",
       "      <td>Phone</td>\n",
       "      <td>1</td>\n",
       "    </tr>\n",
       "    <tr>\n",
       "      <th>4581</th>\n",
       "      <td>6476A07FCC</td>\n",
       "      <td>phone_call</td>\n",
       "      <td>Real_State</td>\n",
       "      <td>1</td>\n",
       "    </tr>\n",
       "    <tr>\n",
       "      <th>8320</th>\n",
       "      <td>6476A07FCC</td>\n",
       "      <td>send_sms</td>\n",
       "      <td>Leisure</td>\n",
       "      <td>1</td>\n",
       "    </tr>\n",
       "    <tr>\n",
       "      <th>9262</th>\n",
       "      <td>6476A07FCC</td>\n",
       "      <td>send_email</td>\n",
       "      <td>Leisure</td>\n",
       "      <td>1</td>\n",
       "    </tr>\n",
       "    <tr>\n",
       "      <th>11617</th>\n",
       "      <td>6476A07FCC</td>\n",
       "      <td>send_email</td>\n",
       "      <td>Motor</td>\n",
       "      <td>1</td>\n",
       "    </tr>\n",
       "    <tr>\n",
       "      <th>13164</th>\n",
       "      <td>6476A07FCC</td>\n",
       "      <td>click_ad</td>\n",
       "      <td>Leisure</td>\n",
       "      <td>1</td>\n",
       "    </tr>\n",
       "    <tr>\n",
       "      <th>13351</th>\n",
       "      <td>6476A07FCC</td>\n",
       "      <td>send_email</td>\n",
       "      <td>Phone</td>\n",
       "      <td>1</td>\n",
       "    </tr>\n",
       "    <tr>\n",
       "      <th>13713</th>\n",
       "      <td>6476A07FCC</td>\n",
       "      <td>click_ad</td>\n",
       "      <td>Phone</td>\n",
       "      <td>1</td>\n",
       "    </tr>\n",
       "    <tr>\n",
       "      <th>15508</th>\n",
       "      <td>6476A07FCC</td>\n",
       "      <td>click_ad</td>\n",
       "      <td>Leisure</td>\n",
       "      <td>1</td>\n",
       "    </tr>\n",
       "    <tr>\n",
       "      <th>18900</th>\n",
       "      <td>6476A07FCC</td>\n",
       "      <td>click_ad</td>\n",
       "      <td>Jobs</td>\n",
       "      <td>1</td>\n",
       "    </tr>\n",
       "    <tr>\n",
       "      <th>26899</th>\n",
       "      <td>6476A07FCC</td>\n",
       "      <td>click_ad</td>\n",
       "      <td>Leisure</td>\n",
       "      <td>1</td>\n",
       "    </tr>\n",
       "    <tr>\n",
       "      <th>29491</th>\n",
       "      <td>6476A07FCC</td>\n",
       "      <td>phone_call</td>\n",
       "      <td>Motor</td>\n",
       "      <td>1</td>\n",
       "    </tr>\n",
       "    <tr>\n",
       "      <th>33552</th>\n",
       "      <td>6476A07FCC</td>\n",
       "      <td>send_sms</td>\n",
       "      <td>Real_State</td>\n",
       "      <td>1</td>\n",
       "    </tr>\n",
       "    <tr>\n",
       "      <th>37868</th>\n",
       "      <td>6476A07FCC</td>\n",
       "      <td>click_ad</td>\n",
       "      <td>Motor</td>\n",
       "      <td>1</td>\n",
       "    </tr>\n",
       "    <tr>\n",
       "      <th>37907</th>\n",
       "      <td>6476A07FCC</td>\n",
       "      <td>click_ad</td>\n",
       "      <td>Leisure</td>\n",
       "      <td>1</td>\n",
       "    </tr>\n",
       "    <tr>\n",
       "      <th>44738</th>\n",
       "      <td>6476A07FCC</td>\n",
       "      <td>click_ad</td>\n",
       "      <td>Jobs</td>\n",
       "      <td>1</td>\n",
       "    </tr>\n",
       "    <tr>\n",
       "      <th>46390</th>\n",
       "      <td>6476A07FCC</td>\n",
       "      <td>send_email</td>\n",
       "      <td>Phone</td>\n",
       "      <td>1</td>\n",
       "    </tr>\n",
       "    <tr>\n",
       "      <th>46984</th>\n",
       "      <td>6476A07FCC</td>\n",
       "      <td>send_email</td>\n",
       "      <td>Motor</td>\n",
       "      <td>1</td>\n",
       "    </tr>\n",
       "    <tr>\n",
       "      <th>47101</th>\n",
       "      <td>6476A07FCC</td>\n",
       "      <td>click_ad</td>\n",
       "      <td>Jobs</td>\n",
       "      <td>1</td>\n",
       "    </tr>\n",
       "    <tr>\n",
       "      <th>52811</th>\n",
       "      <td>6476A07FCC</td>\n",
       "      <td>click_ad</td>\n",
       "      <td>Leisure</td>\n",
       "      <td>1</td>\n",
       "    </tr>\n",
       "    <tr>\n",
       "      <th>55493</th>\n",
       "      <td>6476A07FCC</td>\n",
       "      <td>phone_call</td>\n",
       "      <td>Leisure</td>\n",
       "      <td>1</td>\n",
       "    </tr>\n",
       "    <tr>\n",
       "      <th>56226</th>\n",
       "      <td>6476A07FCC</td>\n",
       "      <td>send_email</td>\n",
       "      <td>Holidays</td>\n",
       "      <td>1</td>\n",
       "    </tr>\n",
       "    <tr>\n",
       "      <th>57970</th>\n",
       "      <td>6476A07FCC</td>\n",
       "      <td>send_email</td>\n",
       "      <td>Leisure</td>\n",
       "      <td>1</td>\n",
       "    </tr>\n",
       "    <tr>\n",
       "      <th>59192</th>\n",
       "      <td>6476A07FCC</td>\n",
       "      <td>send_email</td>\n",
       "      <td>Leisure</td>\n",
       "      <td>1</td>\n",
       "    </tr>\n",
       "    <tr>\n",
       "      <th>59787</th>\n",
       "      <td>6476A07FCC</td>\n",
       "      <td>send_email</td>\n",
       "      <td>Phone</td>\n",
       "      <td>1</td>\n",
       "    </tr>\n",
       "    <tr>\n",
       "      <th>60338</th>\n",
       "      <td>6476A07FCC</td>\n",
       "      <td>send_email</td>\n",
       "      <td>Motor</td>\n",
       "      <td>1</td>\n",
       "    </tr>\n",
       "    <tr>\n",
       "      <th>60533</th>\n",
       "      <td>6476A07FCC</td>\n",
       "      <td>send_email</td>\n",
       "      <td>Leisure</td>\n",
       "      <td>1</td>\n",
       "    </tr>\n",
       "    <tr>\n",
       "      <th>62209</th>\n",
       "      <td>6476A07FCC</td>\n",
       "      <td>click_ad</td>\n",
       "      <td>Real_State</td>\n",
       "      <td>1</td>\n",
       "    </tr>\n",
       "    <tr>\n",
       "      <th>64154</th>\n",
       "      <td>6476A07FCC</td>\n",
       "      <td>send_email</td>\n",
       "      <td>Jobs</td>\n",
       "      <td>1</td>\n",
       "    </tr>\n",
       "    <tr>\n",
       "      <th>67299</th>\n",
       "      <td>6476A07FCC</td>\n",
       "      <td>send_email</td>\n",
       "      <td>Real_State</td>\n",
       "      <td>1</td>\n",
       "    </tr>\n",
       "    <tr>\n",
       "      <th>71094</th>\n",
       "      <td>6476A07FCC</td>\n",
       "      <td>click_ad</td>\n",
       "      <td>Real_State</td>\n",
       "      <td>1</td>\n",
       "    </tr>\n",
       "    <tr>\n",
       "      <th>72114</th>\n",
       "      <td>6476A07FCC</td>\n",
       "      <td>click_ad</td>\n",
       "      <td>Jobs</td>\n",
       "      <td>1</td>\n",
       "    </tr>\n",
       "    <tr>\n",
       "      <th>73288</th>\n",
       "      <td>6476A07FCC</td>\n",
       "      <td>click_ad</td>\n",
       "      <td>Holidays</td>\n",
       "      <td>1</td>\n",
       "    </tr>\n",
       "    <tr>\n",
       "      <th>77116</th>\n",
       "      <td>6476A07FCC</td>\n",
       "      <td>phone_call</td>\n",
       "      <td>Motor</td>\n",
       "      <td>1</td>\n",
       "    </tr>\n",
       "    <tr>\n",
       "      <th>78871</th>\n",
       "      <td>6476A07FCC</td>\n",
       "      <td>send_email</td>\n",
       "      <td>Phone</td>\n",
       "      <td>1</td>\n",
       "    </tr>\n",
       "    <tr>\n",
       "      <th>79077</th>\n",
       "      <td>6476A07FCC</td>\n",
       "      <td>send_email</td>\n",
       "      <td>Motor</td>\n",
       "      <td>1</td>\n",
       "    </tr>\n",
       "    <tr>\n",
       "      <th>80367</th>\n",
       "      <td>6476A07FCC</td>\n",
       "      <td>send_email</td>\n",
       "      <td>Leisure</td>\n",
       "      <td>1</td>\n",
       "    </tr>\n",
       "    <tr>\n",
       "      <th>82271</th>\n",
       "      <td>6476A07FCC</td>\n",
       "      <td>click_ad</td>\n",
       "      <td>Jobs</td>\n",
       "      <td>1</td>\n",
       "    </tr>\n",
       "    <tr>\n",
       "      <th>82802</th>\n",
       "      <td>6476A07FCC</td>\n",
       "      <td>click_ad</td>\n",
       "      <td>Phone</td>\n",
       "      <td>1</td>\n",
       "    </tr>\n",
       "    <tr>\n",
       "      <th>90656</th>\n",
       "      <td>6476A07FCC</td>\n",
       "      <td>click_ad</td>\n",
       "      <td>Phone</td>\n",
       "      <td>1</td>\n",
       "    </tr>\n",
       "    <tr>\n",
       "      <th>93318</th>\n",
       "      <td>6476A07FCC</td>\n",
       "      <td>click_ad</td>\n",
       "      <td>Phone</td>\n",
       "      <td>1</td>\n",
       "    </tr>\n",
       "    <tr>\n",
       "      <th>95458</th>\n",
       "      <td>6476A07FCC</td>\n",
       "      <td>send_email</td>\n",
       "      <td>Leisure</td>\n",
       "      <td>1</td>\n",
       "    </tr>\n",
       "    <tr>\n",
       "      <th>96997</th>\n",
       "      <td>6476A07FCC</td>\n",
       "      <td>send_email</td>\n",
       "      <td>Real_State</td>\n",
       "      <td>1</td>\n",
       "    </tr>\n",
       "    <tr>\n",
       "      <th>99643</th>\n",
       "      <td>6476A07FCC</td>\n",
       "      <td>send_email</td>\n",
       "      <td>Motor</td>\n",
       "      <td>1</td>\n",
       "    </tr>\n",
       "  </tbody>\n",
       "</table>\n",
       "</div>"
      ],
      "text/plain": [
       "           UserId       Event    Category  Fake\n",
       "22     6476A07FCC  send_email     Leisure     1\n",
       "719    6476A07FCC  send_email       Phone     1\n",
       "4581   6476A07FCC  phone_call  Real_State     1\n",
       "8320   6476A07FCC    send_sms     Leisure     1\n",
       "9262   6476A07FCC  send_email     Leisure     1\n",
       "11617  6476A07FCC  send_email       Motor     1\n",
       "13164  6476A07FCC    click_ad     Leisure     1\n",
       "13351  6476A07FCC  send_email       Phone     1\n",
       "13713  6476A07FCC    click_ad       Phone     1\n",
       "15508  6476A07FCC    click_ad     Leisure     1\n",
       "18900  6476A07FCC    click_ad        Jobs     1\n",
       "26899  6476A07FCC    click_ad     Leisure     1\n",
       "29491  6476A07FCC  phone_call       Motor     1\n",
       "33552  6476A07FCC    send_sms  Real_State     1\n",
       "37868  6476A07FCC    click_ad       Motor     1\n",
       "37907  6476A07FCC    click_ad     Leisure     1\n",
       "44738  6476A07FCC    click_ad        Jobs     1\n",
       "46390  6476A07FCC  send_email       Phone     1\n",
       "46984  6476A07FCC  send_email       Motor     1\n",
       "47101  6476A07FCC    click_ad        Jobs     1\n",
       "52811  6476A07FCC    click_ad     Leisure     1\n",
       "55493  6476A07FCC  phone_call     Leisure     1\n",
       "56226  6476A07FCC  send_email    Holidays     1\n",
       "57970  6476A07FCC  send_email     Leisure     1\n",
       "59192  6476A07FCC  send_email     Leisure     1\n",
       "59787  6476A07FCC  send_email       Phone     1\n",
       "60338  6476A07FCC  send_email       Motor     1\n",
       "60533  6476A07FCC  send_email     Leisure     1\n",
       "62209  6476A07FCC    click_ad  Real_State     1\n",
       "64154  6476A07FCC  send_email        Jobs     1\n",
       "67299  6476A07FCC  send_email  Real_State     1\n",
       "71094  6476A07FCC    click_ad  Real_State     1\n",
       "72114  6476A07FCC    click_ad        Jobs     1\n",
       "73288  6476A07FCC    click_ad    Holidays     1\n",
       "77116  6476A07FCC  phone_call       Motor     1\n",
       "78871  6476A07FCC  send_email       Phone     1\n",
       "79077  6476A07FCC  send_email       Motor     1\n",
       "80367  6476A07FCC  send_email     Leisure     1\n",
       "82271  6476A07FCC    click_ad        Jobs     1\n",
       "82802  6476A07FCC    click_ad       Phone     1\n",
       "90656  6476A07FCC    click_ad       Phone     1\n",
       "93318  6476A07FCC    click_ad       Phone     1\n",
       "95458  6476A07FCC  send_email     Leisure     1\n",
       "96997  6476A07FCC  send_email  Real_State     1\n",
       "99643  6476A07FCC  send_email       Motor     1"
      ]
     },
     "metadata": {},
     "output_type": "display_data"
    },
    {
     "data": {
      "text/plain": [
       "send_email    21\n",
       "click_ad      18\n",
       "phone_call     4\n",
       "send_sms       2\n",
       "Name: Event, dtype: int64"
      ]
     },
     "metadata": {},
     "output_type": "display_data"
    },
    {
     "data": {
      "text/plain": [
       "Leisure       14\n",
       "Phone          9\n",
       "Motor          8\n",
       "Real_State     6\n",
       "Jobs           6\n",
       "Holidays       2\n",
       "Name: Category, dtype: int64"
      ]
     },
     "metadata": {},
     "output_type": "display_data"
    }
   ],
   "source": [
    "# Fake\n",
    "ID = \"6476A07FCC\"\n",
    "display(dataset[dataset[\"UserId\"] == ID])\n",
    "display(dataset[dataset[\"UserId\"] == ID][\"Event\"].value_counts())\n",
    "display(dataset[dataset[\"UserId\"] == ID][\"Category\"].value_counts())"
   ]
  },
  {
   "cell_type": "markdown",
   "metadata": {},
   "source": [
    "### An example of a real user"
   ]
  },
  {
   "cell_type": "code",
   "execution_count": 9,
   "metadata": {},
   "outputs": [
    {
     "data": {
      "text/html": [
       "<div>\n",
       "<style scoped>\n",
       "    .dataframe tbody tr th:only-of-type {\n",
       "        vertical-align: middle;\n",
       "    }\n",
       "\n",
       "    .dataframe tbody tr th {\n",
       "        vertical-align: top;\n",
       "    }\n",
       "\n",
       "    .dataframe thead th {\n",
       "        text-align: right;\n",
       "    }\n",
       "</style>\n",
       "<table border=\"1\" class=\"dataframe\">\n",
       "  <thead>\n",
       "    <tr style=\"text-align: right;\">\n",
       "      <th></th>\n",
       "      <th>UserId</th>\n",
       "      <th>Event</th>\n",
       "      <th>Category</th>\n",
       "      <th>Fake</th>\n",
       "    </tr>\n",
       "  </thead>\n",
       "  <tbody>\n",
       "    <tr>\n",
       "      <th>40</th>\n",
       "      <td>00079D439D</td>\n",
       "      <td>send_email</td>\n",
       "      <td>Phone</td>\n",
       "      <td>0</td>\n",
       "    </tr>\n",
       "    <tr>\n",
       "      <th>3561</th>\n",
       "      <td>00079D439D</td>\n",
       "      <td>send_email</td>\n",
       "      <td>Holidays</td>\n",
       "      <td>0</td>\n",
       "    </tr>\n",
       "    <tr>\n",
       "      <th>12070</th>\n",
       "      <td>00079D439D</td>\n",
       "      <td>click_ad</td>\n",
       "      <td>Phone</td>\n",
       "      <td>0</td>\n",
       "    </tr>\n",
       "    <tr>\n",
       "      <th>16397</th>\n",
       "      <td>00079D439D</td>\n",
       "      <td>click_ad</td>\n",
       "      <td>Phone</td>\n",
       "      <td>0</td>\n",
       "    </tr>\n",
       "    <tr>\n",
       "      <th>23247</th>\n",
       "      <td>00079D439D</td>\n",
       "      <td>click_ad</td>\n",
       "      <td>Phone</td>\n",
       "      <td>0</td>\n",
       "    </tr>\n",
       "    <tr>\n",
       "      <th>25847</th>\n",
       "      <td>00079D439D</td>\n",
       "      <td>click_carrousel</td>\n",
       "      <td>Phone</td>\n",
       "      <td>0</td>\n",
       "    </tr>\n",
       "    <tr>\n",
       "      <th>33785</th>\n",
       "      <td>00079D439D</td>\n",
       "      <td>phone_call</td>\n",
       "      <td>Phone</td>\n",
       "      <td>0</td>\n",
       "    </tr>\n",
       "    <tr>\n",
       "      <th>45016</th>\n",
       "      <td>00079D439D</td>\n",
       "      <td>phone_call</td>\n",
       "      <td>Phone</td>\n",
       "      <td>0</td>\n",
       "    </tr>\n",
       "    <tr>\n",
       "      <th>45122</th>\n",
       "      <td>00079D439D</td>\n",
       "      <td>click_ad</td>\n",
       "      <td>Phone</td>\n",
       "      <td>0</td>\n",
       "    </tr>\n",
       "    <tr>\n",
       "      <th>57682</th>\n",
       "      <td>00079D439D</td>\n",
       "      <td>send_sms</td>\n",
       "      <td>Phone</td>\n",
       "      <td>0</td>\n",
       "    </tr>\n",
       "    <tr>\n",
       "      <th>60231</th>\n",
       "      <td>00079D439D</td>\n",
       "      <td>click_ad</td>\n",
       "      <td>Phone</td>\n",
       "      <td>0</td>\n",
       "    </tr>\n",
       "    <tr>\n",
       "      <th>64634</th>\n",
       "      <td>00079D439D</td>\n",
       "      <td>send_email</td>\n",
       "      <td>Phone</td>\n",
       "      <td>0</td>\n",
       "    </tr>\n",
       "    <tr>\n",
       "      <th>70903</th>\n",
       "      <td>00079D439D</td>\n",
       "      <td>send_sms</td>\n",
       "      <td>Phone</td>\n",
       "      <td>0</td>\n",
       "    </tr>\n",
       "    <tr>\n",
       "      <th>72143</th>\n",
       "      <td>00079D439D</td>\n",
       "      <td>click_carrousel</td>\n",
       "      <td>Phone</td>\n",
       "      <td>0</td>\n",
       "    </tr>\n",
       "    <tr>\n",
       "      <th>78634</th>\n",
       "      <td>00079D439D</td>\n",
       "      <td>click_carrousel</td>\n",
       "      <td>Phone</td>\n",
       "      <td>0</td>\n",
       "    </tr>\n",
       "    <tr>\n",
       "      <th>85002</th>\n",
       "      <td>00079D439D</td>\n",
       "      <td>phone_call</td>\n",
       "      <td>Phone</td>\n",
       "      <td>0</td>\n",
       "    </tr>\n",
       "    <tr>\n",
       "      <th>87011</th>\n",
       "      <td>00079D439D</td>\n",
       "      <td>phone_call</td>\n",
       "      <td>Phone</td>\n",
       "      <td>0</td>\n",
       "    </tr>\n",
       "    <tr>\n",
       "      <th>93584</th>\n",
       "      <td>00079D439D</td>\n",
       "      <td>send_email</td>\n",
       "      <td>Phone</td>\n",
       "      <td>0</td>\n",
       "    </tr>\n",
       "    <tr>\n",
       "      <th>94633</th>\n",
       "      <td>00079D439D</td>\n",
       "      <td>send_sms</td>\n",
       "      <td>Phone</td>\n",
       "      <td>0</td>\n",
       "    </tr>\n",
       "  </tbody>\n",
       "</table>\n",
       "</div>"
      ],
      "text/plain": [
       "           UserId            Event  Category  Fake\n",
       "40     00079D439D       send_email     Phone     0\n",
       "3561   00079D439D       send_email  Holidays     0\n",
       "12070  00079D439D         click_ad     Phone     0\n",
       "16397  00079D439D         click_ad     Phone     0\n",
       "23247  00079D439D         click_ad     Phone     0\n",
       "25847  00079D439D  click_carrousel     Phone     0\n",
       "33785  00079D439D       phone_call     Phone     0\n",
       "45016  00079D439D       phone_call     Phone     0\n",
       "45122  00079D439D         click_ad     Phone     0\n",
       "57682  00079D439D         send_sms     Phone     0\n",
       "60231  00079D439D         click_ad     Phone     0\n",
       "64634  00079D439D       send_email     Phone     0\n",
       "70903  00079D439D         send_sms     Phone     0\n",
       "72143  00079D439D  click_carrousel     Phone     0\n",
       "78634  00079D439D  click_carrousel     Phone     0\n",
       "85002  00079D439D       phone_call     Phone     0\n",
       "87011  00079D439D       phone_call     Phone     0\n",
       "93584  00079D439D       send_email     Phone     0\n",
       "94633  00079D439D         send_sms     Phone     0"
      ]
     },
     "metadata": {},
     "output_type": "display_data"
    },
    {
     "data": {
      "text/plain": [
       "click_ad           5\n",
       "send_email         4\n",
       "phone_call         4\n",
       "click_carrousel    3\n",
       "send_sms           3\n",
       "Name: Event, dtype: int64"
      ]
     },
     "metadata": {},
     "output_type": "display_data"
    },
    {
     "data": {
      "text/plain": [
       "Phone       18\n",
       "Holidays     1\n",
       "Name: Category, dtype: int64"
      ]
     },
     "metadata": {},
     "output_type": "display_data"
    }
   ],
   "source": [
    "#Not Fake\n",
    "ID = \"00079D439D\"\n",
    "display(dataset[dataset[\"UserId\"] == ID])\n",
    "display(dataset[dataset[\"UserId\"] == ID][\"Event\"].value_counts())\n",
    "display(dataset[dataset[\"UserId\"] == ID][\"Category\"].value_counts())"
   ]
  },
  {
   "cell_type": "markdown",
   "metadata": {},
   "source": [
    "In Anomaly detection, I like to observe quickly the differences between groups to build intuition.\n",
    "- Here, it looks like the Fake user has way more lines which means way more events.\n",
    "- Furthermore, bots seem to generate more **send_email** and **click_ad** events.\n",
    "- Last observation, there are much more categories browsed for the bot than for the real user.  \n",
    "Let see if theses observation are correct for the whole Dataset. \n"
   ]
  },
  {
   "cell_type": "markdown",
   "metadata": {},
   "source": [
    "## Exploring Events"
   ]
  },
  {
   "cell_type": "markdown",
   "metadata": {},
   "source": [
    "Let us see the behaviour of users regading Events\n",
    "We will explore:\n",
    "- The number of Events per user.\n",
    "- The number of unique Events per user.\n",
    "- The distribution of clicks. "
   ]
  },
  {
   "cell_type": "markdown",
   "metadata": {},
   "source": [
    "### The number of Events per user"
   ]
  },
  {
   "cell_type": "code",
   "execution_count": 10,
   "metadata": {},
   "outputs": [
    {
     "data": {
      "text/html": [
       "<div>\n",
       "<style scoped>\n",
       "    .dataframe tbody tr th:only-of-type {\n",
       "        vertical-align: middle;\n",
       "    }\n",
       "\n",
       "    .dataframe tbody tr th {\n",
       "        vertical-align: top;\n",
       "    }\n",
       "\n",
       "    .dataframe thead th {\n",
       "        text-align: right;\n",
       "    }\n",
       "</style>\n",
       "<table border=\"1\" class=\"dataframe\">\n",
       "  <thead>\n",
       "    <tr style=\"text-align: right;\">\n",
       "      <th></th>\n",
       "      <th>N_events</th>\n",
       "      <th>Fake</th>\n",
       "    </tr>\n",
       "    <tr>\n",
       "      <th>UserId</th>\n",
       "      <th></th>\n",
       "      <th></th>\n",
       "    </tr>\n",
       "  </thead>\n",
       "  <tbody>\n",
       "    <tr>\n",
       "      <th>00079D439D</th>\n",
       "      <td>19</td>\n",
       "      <td>0</td>\n",
       "    </tr>\n",
       "    <tr>\n",
       "      <th>0007A4D4AE</th>\n",
       "      <td>20</td>\n",
       "      <td>0</td>\n",
       "    </tr>\n",
       "    <tr>\n",
       "      <th>000AFE2623</th>\n",
       "      <td>21</td>\n",
       "      <td>0</td>\n",
       "    </tr>\n",
       "    <tr>\n",
       "      <th>001A5362BC</th>\n",
       "      <td>16</td>\n",
       "      <td>0</td>\n",
       "    </tr>\n",
       "    <tr>\n",
       "      <th>0025995AF5</th>\n",
       "      <td>21</td>\n",
       "      <td>0</td>\n",
       "    </tr>\n",
       "  </tbody>\n",
       "</table>\n",
       "</div>"
      ],
      "text/plain": [
       "            N_events  Fake\n",
       "UserId                    \n",
       "00079D439D        19     0\n",
       "0007A4D4AE        20     0\n",
       "000AFE2623        21     0\n",
       "001A5362BC        16     0\n",
       "0025995AF5        21     0"
      ]
     },
     "execution_count": 10,
     "metadata": {},
     "output_type": "execute_result"
    }
   ],
   "source": [
    "viz = dataset.groupby(\"UserId\")[[\"UserId\", \"Fake\"]].agg({\"UserId\": \"count\", \"Fake\":\"min\"})\n",
    "viz.columns = [\"N_events\", \"Fake\"]\n",
    "viz.head()"
   ]
  },
  {
   "cell_type": "code",
   "execution_count": 11,
   "metadata": {},
   "outputs": [
    {
     "data": {
      "text/plain": [
       "<AxesSubplot:xlabel='N_events', ylabel='Count'>"
      ]
     },
     "execution_count": 11,
     "metadata": {},
     "output_type": "execute_result"
    },
    {
     "data": {
      "image/png": "[encoded data removed]",
      "text/plain": [
       "<Figure size 432x288 with 1 Axes>"
      ]
     },
     "metadata": {
      "needs_background": "light"
     },
     "output_type": "display_data"
    }
   ],
   "source": [
    "sns.histplot(data = viz, x = \"N_events\", hue = \"Fake\")"
   ]
  },
  {
   "cell_type": "markdown",
   "metadata": {},
   "source": [
    "Most of people perform less than 20 events in the website, those have a very high probability to be real users.  \n",
    "However when they perform more than 20 events, they are most likely bots.  \n",
    "-- >  1st feature: The number of events per user"
   ]
  },
  {
   "cell_type": "markdown",
   "metadata": {},
   "source": [
    "### The number of unique events per user"
   ]
  },
  {
   "cell_type": "markdown",
   "metadata": {},
   "source": [
    "This features may overlap with some others, but as a first try, I'll include it aswell."
   ]
  },
  {
   "cell_type": "code",
   "execution_count": 12,
   "metadata": {},
   "outputs": [
    {
     "data": {
      "text/html": [
       "<div>\n",
       "<style scoped>\n",
       "    .dataframe tbody tr th:only-of-type {\n",
       "        vertical-align: middle;\n",
       "    }\n",
       "\n",
       "    .dataframe tbody tr th {\n",
       "        vertical-align: top;\n",
       "    }\n",
       "\n",
       "    .dataframe thead th {\n",
       "        text-align: right;\n",
       "    }\n",
       "</style>\n",
       "<table border=\"1\" class=\"dataframe\">\n",
       "  <thead>\n",
       "    <tr style=\"text-align: right;\">\n",
       "      <th></th>\n",
       "      <th>N_unique_events_per_user</th>\n",
       "      <th>Fake_rate</th>\n",
       "    </tr>\n",
       "  </thead>\n",
       "  <tbody>\n",
       "    <tr>\n",
       "      <th>0</th>\n",
       "      <td>2</td>\n",
       "      <td>1.000000</td>\n",
       "    </tr>\n",
       "    <tr>\n",
       "      <th>1</th>\n",
       "      <td>3</td>\n",
       "      <td>0.783784</td>\n",
       "    </tr>\n",
       "    <tr>\n",
       "      <th>2</th>\n",
       "      <td>4</td>\n",
       "      <td>0.177083</td>\n",
       "    </tr>\n",
       "    <tr>\n",
       "      <th>3</th>\n",
       "      <td>5</td>\n",
       "      <td>0.035234</td>\n",
       "    </tr>\n",
       "  </tbody>\n",
       "</table>\n",
       "</div>"
      ],
      "text/plain": [
       "   N_unique_events_per_user  Fake_rate\n",
       "0                         2   1.000000\n",
       "1                         3   0.783784\n",
       "2                         4   0.177083\n",
       "3                         5   0.035234"
      ]
     },
     "metadata": {},
     "output_type": "display_data"
    },
    {
     "data": {
      "text/plain": [
       "<seaborn.axisgrid.FacetGrid at 0x7fd3c7c01a90>"
      ]
     },
     "execution_count": 12,
     "metadata": {},
     "output_type": "execute_result"
    },
    {
     "data": {
      "image/png": "[encoded data removed]",
      "text/plain": [
       "<Figure size 360x360 with 1 Axes>"
      ]
     },
     "metadata": {
      "needs_background": "light"
     },
     "output_type": "display_data"
    }
   ],
   "source": [
    "viz = (\n",
    "        dataset\n",
    "        .groupby(\"UserId\")[[\"Event\", \"Fake\"]]\n",
    "        .agg({\"Event\": \"nunique\", \"Fake\":\"min\"})\n",
    "        .groupby(\"Event\")[\"Fake\"].mean()\n",
    "        .reset_index()\n",
    ")\n",
    "\n",
    "viz.columns = [\"N_unique_events_per_user\", \"Fake_rate\"]\n",
    "display(viz.head())\n",
    "sns.catplot(data = viz, x = \"N_unique_events_per_user\", y = \"Fake_rate\", kind = \"bar\")"
   ]
  },
  {
   "cell_type": "markdown",
   "metadata": {},
   "source": [
    " It seems there are more bots among users who perform few different events.  \n",
    "--> 2nd Feature:  The amount of different events performed per user"
   ]
  },
  {
   "cell_type": "markdown",
   "metadata": {},
   "source": [
    "### Distribution of clicks"
   ]
  },
  {
   "cell_type": "code",
   "execution_count": 13,
   "metadata": {},
   "outputs": [
    {
     "data": {
      "text/html": [
       "<div>\n",
       "<style scoped>\n",
       "    .dataframe tbody tr th:only-of-type {\n",
       "        vertical-align: middle;\n",
       "    }\n",
       "\n",
       "    .dataframe tbody tr th {\n",
       "        vertical-align: top;\n",
       "    }\n",
       "\n",
       "    .dataframe thead th {\n",
       "        text-align: right;\n",
       "    }\n",
       "</style>\n",
       "<table border=\"1\" class=\"dataframe\">\n",
       "  <thead>\n",
       "    <tr style=\"text-align: right;\">\n",
       "      <th></th>\n",
       "      <th>Event</th>\n",
       "      <th>Fake_rate</th>\n",
       "    </tr>\n",
       "  </thead>\n",
       "  <tbody>\n",
       "    <tr>\n",
       "      <th>2</th>\n",
       "      <td>phone_call</td>\n",
       "      <td>0.026641</td>\n",
       "    </tr>\n",
       "    <tr>\n",
       "      <th>4</th>\n",
       "      <td>send_sms</td>\n",
       "      <td>0.028062</td>\n",
       "    </tr>\n",
       "    <tr>\n",
       "      <th>1</th>\n",
       "      <td>click_carrousel</td>\n",
       "      <td>0.028927</td>\n",
       "    </tr>\n",
       "    <tr>\n",
       "      <th>0</th>\n",
       "      <td>click_ad</td>\n",
       "      <td>0.189766</td>\n",
       "    </tr>\n",
       "    <tr>\n",
       "      <th>3</th>\n",
       "      <td>send_email</td>\n",
       "      <td>0.201560</td>\n",
       "    </tr>\n",
       "  </tbody>\n",
       "</table>\n",
       "</div>"
      ],
      "text/plain": [
       "             Event  Fake_rate\n",
       "2       phone_call   0.026641\n",
       "4         send_sms   0.028062\n",
       "1  click_carrousel   0.028927\n",
       "0         click_ad   0.189766\n",
       "3       send_email   0.201560"
      ]
     },
     "execution_count": 13,
     "metadata": {},
     "output_type": "execute_result"
    }
   ],
   "source": [
    "viz = (\n",
    "    dataset.groupby(\"Event\")[\"Fake\"].mean()\n",
    "    .reset_index().sort_values(\"Fake\")\n",
    ")\n",
    "viz.columns = [\"Event\", \"Fake_rate\"]\n",
    "viz.head()"
   ]
  },
  {
   "cell_type": "code",
   "execution_count": 14,
   "metadata": {},
   "outputs": [
    {
     "data": {
      "text/plain": [
       "<seaborn.axisgrid.FacetGrid at 0x7fd3cb85ef10>"
      ]
     },
     "execution_count": 14,
     "metadata": {},
     "output_type": "execute_result"
    },
    {
     "data": {
      "image/png": "[encoded data removed]",
      "text/plain": [
       "<Figure size 360x360 with 1 Axes>"
      ]
     },
     "metadata": {
      "needs_background": "light"
     },
     "output_type": "display_data"
    }
   ],
   "source": [
    "sns.catplot(data = viz, x = \"Event\", y = \"Fake_rate\", kind = \"bar\")"
   ]
  },
  {
   "cell_type": "markdown",
   "metadata": {},
   "source": [
    "When the user is a bot, the Distribution of clicks is skewed towards click_ad and send_email.  \n",
    "--> 3rd Feature: Clicks Distribution per user."
   ]
  },
  {
   "cell_type": "markdown",
   "metadata": {},
   "source": [
    "Let's get the distribution of clicks of each user "
   ]
  },
  {
   "cell_type": "code",
   "execution_count": 15,
   "metadata": {},
   "outputs": [],
   "source": [
    "### this function is used for aggregation. It returns a list of every clicks made by a user.\n",
    "def get_list(series, column = \"Event\"):\n",
    "    return \" \".join(series)\n"
   ]
  },
  {
   "cell_type": "code",
   "execution_count": 16,
   "metadata": {},
   "outputs": [
    {
     "data": {
      "text/html": [
       "<div>\n",
       "<style scoped>\n",
       "    .dataframe tbody tr th:only-of-type {\n",
       "        vertical-align: middle;\n",
       "    }\n",
       "\n",
       "    .dataframe tbody tr th {\n",
       "        vertical-align: top;\n",
       "    }\n",
       "\n",
       "    .dataframe thead th {\n",
       "        text-align: right;\n",
       "    }\n",
       "</style>\n",
       "<table border=\"1\" class=\"dataframe\">\n",
       "  <thead>\n",
       "    <tr style=\"text-align: right;\">\n",
       "      <th></th>\n",
       "      <th>click_ad</th>\n",
       "      <th>click_carrousel</th>\n",
       "      <th>phone_call</th>\n",
       "      <th>send_email</th>\n",
       "      <th>send_sms</th>\n",
       "      <th>Fake</th>\n",
       "    </tr>\n",
       "    <tr>\n",
       "      <th>UserId</th>\n",
       "      <th></th>\n",
       "      <th></th>\n",
       "      <th></th>\n",
       "      <th></th>\n",
       "      <th></th>\n",
       "      <th></th>\n",
       "    </tr>\n",
       "  </thead>\n",
       "  <tbody>\n",
       "    <tr>\n",
       "      <th>00079D439D</th>\n",
       "      <td>5</td>\n",
       "      <td>3</td>\n",
       "      <td>4</td>\n",
       "      <td>4</td>\n",
       "      <td>3</td>\n",
       "      <td>0</td>\n",
       "    </tr>\n",
       "    <tr>\n",
       "      <th>0007A4D4AE</th>\n",
       "      <td>5</td>\n",
       "      <td>7</td>\n",
       "      <td>4</td>\n",
       "      <td>3</td>\n",
       "      <td>1</td>\n",
       "      <td>0</td>\n",
       "    </tr>\n",
       "    <tr>\n",
       "      <th>000AFE2623</th>\n",
       "      <td>3</td>\n",
       "      <td>4</td>\n",
       "      <td>3</td>\n",
       "      <td>4</td>\n",
       "      <td>7</td>\n",
       "      <td>0</td>\n",
       "    </tr>\n",
       "    <tr>\n",
       "      <th>001A5362BC</th>\n",
       "      <td>3</td>\n",
       "      <td>3</td>\n",
       "      <td>3</td>\n",
       "      <td>5</td>\n",
       "      <td>2</td>\n",
       "      <td>0</td>\n",
       "    </tr>\n",
       "    <tr>\n",
       "      <th>0025995AF5</th>\n",
       "      <td>4</td>\n",
       "      <td>7</td>\n",
       "      <td>3</td>\n",
       "      <td>3</td>\n",
       "      <td>4</td>\n",
       "      <td>0</td>\n",
       "    </tr>\n",
       "  </tbody>\n",
       "</table>\n",
       "</div>"
      ],
      "text/plain": [
       "            click_ad  click_carrousel  phone_call  send_email  send_sms  Fake\n",
       "UserId                                                                       \n",
       "00079D439D         5                3           4           4         3     0\n",
       "0007A4D4AE         5                7           4           3         1     0\n",
       "000AFE2623         3                4           3           4         7     0\n",
       "001A5362BC         3                3           3           5         2     0\n",
       "0025995AF5         4                7           3           3         4     0"
      ]
     },
     "execution_count": 16,
     "metadata": {},
     "output_type": "execute_result"
    }
   ],
   "source": [
    "vectorizer = CountVectorizer()\n",
    "#dataset.groupby(\"UserId\")[\"UserId\"]\n",
    "corpus = (\n",
    "    dataset.groupby(\"UserId\")[[\"Event\", \"Fake\"]]\n",
    "    .agg({\"Event\":get_list, \"Fake\": \"min\"})\n",
    ")\n",
    "X = vectorizer.fit_transform(corpus[\"Event\"])\n",
    "event_distribution = pd.DataFrame(X.todense(), columns = vectorizer.get_feature_names_out(), index = corpus.index)\n",
    "event_distribution[\"Fake\"] = corpus[\"Fake\"]\n",
    "event_distribution.head()"
   ]
  },
  {
   "cell_type": "markdown",
   "metadata": {},
   "source": [
    "## Exploring Categories"
   ]
  },
  {
   "cell_type": "markdown",
   "metadata": {},
   "source": [
    "Let us see the behaviour of users regading Categories\n",
    "We will explore:\n",
    "- The distribution of Categories \n",
    "- The number of Categories browsed per user"
   ]
  },
  {
   "cell_type": "markdown",
   "metadata": {},
   "source": [
    "### The distribution of Categories "
   ]
  },
  {
   "cell_type": "code",
   "execution_count": 17,
   "metadata": {},
   "outputs": [
    {
     "data": {
      "text/html": [
       "<div>\n",
       "<style scoped>\n",
       "    .dataframe tbody tr th:only-of-type {\n",
       "        vertical-align: middle;\n",
       "    }\n",
       "\n",
       "    .dataframe tbody tr th {\n",
       "        vertical-align: top;\n",
       "    }\n",
       "\n",
       "    .dataframe thead th {\n",
       "        text-align: right;\n",
       "    }\n",
       "</style>\n",
       "<table border=\"1\" class=\"dataframe\">\n",
       "  <thead>\n",
       "    <tr style=\"text-align: right;\">\n",
       "      <th></th>\n",
       "      <th>Category</th>\n",
       "      <th>Fake</th>\n",
       "    </tr>\n",
       "  </thead>\n",
       "  <tbody>\n",
       "    <tr>\n",
       "      <th>2</th>\n",
       "      <td>Leisure</td>\n",
       "      <td>0.096959</td>\n",
       "    </tr>\n",
       "    <tr>\n",
       "      <th>0</th>\n",
       "      <td>Holidays</td>\n",
       "      <td>0.100739</td>\n",
       "    </tr>\n",
       "    <tr>\n",
       "      <th>3</th>\n",
       "      <td>Motor</td>\n",
       "      <td>0.101136</td>\n",
       "    </tr>\n",
       "    <tr>\n",
       "      <th>1</th>\n",
       "      <td>Jobs</td>\n",
       "      <td>0.103790</td>\n",
       "    </tr>\n",
       "    <tr>\n",
       "      <th>4</th>\n",
       "      <td>Phone</td>\n",
       "      <td>0.106483</td>\n",
       "    </tr>\n",
       "  </tbody>\n",
       "</table>\n",
       "</div>"
      ],
      "text/plain": [
       "   Category      Fake\n",
       "2   Leisure  0.096959\n",
       "0  Holidays  0.100739\n",
       "3     Motor  0.101136\n",
       "1      Jobs  0.103790\n",
       "4     Phone  0.106483"
      ]
     },
     "execution_count": 17,
     "metadata": {},
     "output_type": "execute_result"
    }
   ],
   "source": [
    "viz = dataset.groupby(\"Category\")[\"Fake\"].mean().reset_index().sort_values(\"Fake\")\n",
    "viz.head()"
   ]
  },
  {
   "cell_type": "code",
   "execution_count": 18,
   "metadata": {},
   "outputs": [
    {
     "data": {
      "text/plain": [
       "<seaborn.axisgrid.FacetGrid at 0x7fd3cb8966a0>"
      ]
     },
     "execution_count": 18,
     "metadata": {},
     "output_type": "execute_result"
    },
    {
     "data": {
      "image/png": "[encoded data removed]",
      "text/plain": [
       "<Figure size 360x360 with 1 Axes>"
      ]
     },
     "metadata": {
      "needs_background": "light"
     },
     "output_type": "display_data"
    }
   ],
   "source": [
    "sns.catplot(data = viz, x = \"Category\", y = \"Fake\", kind = \"bar\")"
   ]
  },
  {
   "cell_type": "markdown",
   "metadata": {},
   "source": [
    "It looks like there's no big differences between categories in term of fake rate.  \n",
    "We cannot detect wether a user is a bot or a human based on the distribution of Categories."
   ]
  },
  {
   "cell_type": "markdown",
   "metadata": {},
   "source": [
    "### The number of Categories browsed per user"
   ]
  },
  {
   "cell_type": "code",
   "execution_count": 19,
   "metadata": {},
   "outputs": [
    {
     "data": {
      "text/html": [
       "<div>\n",
       "<style scoped>\n",
       "    .dataframe tbody tr th:only-of-type {\n",
       "        vertical-align: middle;\n",
       "    }\n",
       "\n",
       "    .dataframe tbody tr th {\n",
       "        vertical-align: top;\n",
       "    }\n",
       "\n",
       "    .dataframe thead th {\n",
       "        text-align: right;\n",
       "    }\n",
       "</style>\n",
       "<table border=\"1\" class=\"dataframe\">\n",
       "  <thead>\n",
       "    <tr style=\"text-align: right;\">\n",
       "      <th></th>\n",
       "      <th>N_category_browsed</th>\n",
       "      <th>Fake_Rate</th>\n",
       "    </tr>\n",
       "  </thead>\n",
       "  <tbody>\n",
       "    <tr>\n",
       "      <th>0</th>\n",
       "      <td>1</td>\n",
       "      <td>0.000000</td>\n",
       "    </tr>\n",
       "    <tr>\n",
       "      <th>1</th>\n",
       "      <td>2</td>\n",
       "      <td>0.000000</td>\n",
       "    </tr>\n",
       "    <tr>\n",
       "      <th>2</th>\n",
       "      <td>3</td>\n",
       "      <td>0.000000</td>\n",
       "    </tr>\n",
       "    <tr>\n",
       "      <th>3</th>\n",
       "      <td>4</td>\n",
       "      <td>0.000000</td>\n",
       "    </tr>\n",
       "    <tr>\n",
       "      <th>4</th>\n",
       "      <td>5</td>\n",
       "      <td>0.633929</td>\n",
       "    </tr>\n",
       "    <tr>\n",
       "      <th>5</th>\n",
       "      <td>6</td>\n",
       "      <td>0.915789</td>\n",
       "    </tr>\n",
       "  </tbody>\n",
       "</table>\n",
       "</div>"
      ],
      "text/plain": [
       "   N_category_browsed  Fake_Rate\n",
       "0                   1   0.000000\n",
       "1                   2   0.000000\n",
       "2                   3   0.000000\n",
       "3                   4   0.000000\n",
       "4                   5   0.633929\n",
       "5                   6   0.915789"
      ]
     },
     "execution_count": 19,
     "metadata": {},
     "output_type": "execute_result"
    }
   ],
   "source": [
    "viz = dataset.groupby(\"UserId\")[[\"Category\", \"Fake\"]].agg({\"Category\": \"nunique\", \"Fake\":\"mean\"}).groupby(\"Category\")[\"Fake\"].mean().reset_index()\n",
    "viz.columns = [\"N_category_browsed\", \"Fake_Rate\"]\n",
    "viz.head(6)"
   ]
  },
  {
   "cell_type": "code",
   "execution_count": 20,
   "metadata": {},
   "outputs": [
    {
     "data": {
      "text/plain": [
       "<seaborn.axisgrid.FacetGrid at 0x7fd3c7c59850>"
      ]
     },
     "execution_count": 20,
     "metadata": {},
     "output_type": "execute_result"
    },
    {
     "data": {
      "image/png": "[encoded data removed]",
      "text/plain": [
       "<Figure size 360x360 with 1 Axes>"
      ]
     },
     "metadata": {
      "needs_background": "light"
     },
     "output_type": "display_data"
    }
   ],
   "source": [
    "sns.catplot(data = viz, x = \"N_category_browsed\", y = \"Fake_Rate\", kind = \"bar\")"
   ]
  },
  {
   "cell_type": "markdown",
   "metadata": {},
   "source": [
    "he number of categories browsed per user is a pretty neat way of detection.\n",
    "When it is equal or more than 5, users are very likely to be bots.  \n",
    "---> 4th feature: the number of categories browsed"
   ]
  },
  {
   "cell_type": "markdown",
   "metadata": {},
   "source": [
    "## Model Selection"
   ]
  },
  {
   "cell_type": "markdown",
   "metadata": {},
   "source": [
    "Recap:  \n",
    "--> 1st Feature: The number of events performed by the user.  \n",
    "--> 2nd Feature: The amount of different events performed per user.  \n",
    "--> 3rd Feature: Clicks Distibution (it is in fact a set of features as it has 5 columns).  \n",
    "--> 4th Feature: The number of categories browsed by the user.  "
   ]
  },
  {
   "cell_type": "code",
   "execution_count": 21,
   "metadata": {},
   "outputs": [
    {
     "data": {
      "text/html": [
       "<div>\n",
       "<style scoped>\n",
       "    .dataframe tbody tr th:only-of-type {\n",
       "        vertical-align: middle;\n",
       "    }\n",
       "\n",
       "    .dataframe tbody tr th {\n",
       "        vertical-align: top;\n",
       "    }\n",
       "\n",
       "    .dataframe thead th {\n",
       "        text-align: right;\n",
       "    }\n",
       "</style>\n",
       "<table border=\"1\" class=\"dataframe\">\n",
       "  <thead>\n",
       "    <tr style=\"text-align: right;\">\n",
       "      <th></th>\n",
       "      <th>Event count</th>\n",
       "      <th>Event nunique</th>\n",
       "      <th>Category nunique</th>\n",
       "      <th>click_ad</th>\n",
       "      <th>click_carrousel</th>\n",
       "      <th>phone_call</th>\n",
       "      <th>send_email</th>\n",
       "      <th>send_sms</th>\n",
       "      <th>Fake</th>\n",
       "    </tr>\n",
       "    <tr>\n",
       "      <th>UserId</th>\n",
       "      <th></th>\n",
       "      <th></th>\n",
       "      <th></th>\n",
       "      <th></th>\n",
       "      <th></th>\n",
       "      <th></th>\n",
       "      <th></th>\n",
       "      <th></th>\n",
       "      <th></th>\n",
       "    </tr>\n",
       "  </thead>\n",
       "  <tbody>\n",
       "    <tr>\n",
       "      <th>00079D439D</th>\n",
       "      <td>19</td>\n",
       "      <td>5</td>\n",
       "      <td>2</td>\n",
       "      <td>5</td>\n",
       "      <td>3</td>\n",
       "      <td>4</td>\n",
       "      <td>4</td>\n",
       "      <td>3</td>\n",
       "      <td>0</td>\n",
       "    </tr>\n",
       "    <tr>\n",
       "      <th>0007A4D4AE</th>\n",
       "      <td>20</td>\n",
       "      <td>5</td>\n",
       "      <td>2</td>\n",
       "      <td>5</td>\n",
       "      <td>7</td>\n",
       "      <td>4</td>\n",
       "      <td>3</td>\n",
       "      <td>1</td>\n",
       "      <td>0</td>\n",
       "    </tr>\n",
       "    <tr>\n",
       "      <th>000AFE2623</th>\n",
       "      <td>21</td>\n",
       "      <td>5</td>\n",
       "      <td>4</td>\n",
       "      <td>3</td>\n",
       "      <td>4</td>\n",
       "      <td>3</td>\n",
       "      <td>4</td>\n",
       "      <td>7</td>\n",
       "      <td>0</td>\n",
       "    </tr>\n",
       "    <tr>\n",
       "      <th>001A5362BC</th>\n",
       "      <td>16</td>\n",
       "      <td>5</td>\n",
       "      <td>2</td>\n",
       "      <td>3</td>\n",
       "      <td>3</td>\n",
       "      <td>3</td>\n",
       "      <td>5</td>\n",
       "      <td>2</td>\n",
       "      <td>0</td>\n",
       "    </tr>\n",
       "    <tr>\n",
       "      <th>0025995AF5</th>\n",
       "      <td>21</td>\n",
       "      <td>5</td>\n",
       "      <td>5</td>\n",
       "      <td>4</td>\n",
       "      <td>7</td>\n",
       "      <td>3</td>\n",
       "      <td>3</td>\n",
       "      <td>4</td>\n",
       "      <td>0</td>\n",
       "    </tr>\n",
       "  </tbody>\n",
       "</table>\n",
       "</div>"
      ],
      "text/plain": [
       "            Event count  Event nunique  Category nunique  click_ad  \\\n",
       "UserId                                                               \n",
       "00079D439D           19              5                 2         5   \n",
       "0007A4D4AE           20              5                 2         5   \n",
       "000AFE2623           21              5                 4         3   \n",
       "001A5362BC           16              5                 2         3   \n",
       "0025995AF5           21              5                 5         4   \n",
       "\n",
       "            click_carrousel  phone_call  send_email  send_sms  Fake  \n",
       "UserId                                                               \n",
       "00079D439D                3           4           4         3     0  \n",
       "0007A4D4AE                7           4           3         1     0  \n",
       "000AFE2623                4           3           4         7     0  \n",
       "001A5362BC                3           3           5         2     0  \n",
       "0025995AF5                7           3           3         4     0  "
      ]
     },
     "execution_count": 21,
     "metadata": {},
     "output_type": "execute_result"
    }
   ],
   "source": [
    "#Making the Design Matrix\n",
    "\n",
    "dataset = pd.read_csv(os.path.join(\"data\", \"fake_users.csv\"), index_col = 0)\n",
    "df = dataset.groupby(\"UserId\")[[\"Event\", \"Category\"]].agg({\"Event\":[\"count\", \"nunique\"], \"Category\": \"nunique\"})\n",
    "df.columns = [\" \".join(item) for item in df.columns]\n",
    "df = df.merge( event_distribution, left_index = True, right_index = True)\n",
    "\n",
    "scaler = StandardScaler()\n",
    "\n",
    "X = df.iloc[:,:-1].to_numpy()\n",
    "X = scaler.fit_transform(X)\n",
    "y = df.iloc[:,-1].to_numpy()\n",
    "\n",
    "df.head()"
   ]
  },
  {
   "cell_type": "markdown",
   "metadata": {},
   "source": [
    "## Model Selection"
   ]
  },
  {
   "cell_type": "markdown",
   "metadata": {},
   "source": [
    "Now, what result could we expect from the data ?\n",
    "To help us answer this question, let's vizualise the data in 2D.\n",
    "To do so, we will scale the Data and use the 2 first components of the PCA."
   ]
  },
  {
   "cell_type": "code",
   "execution_count": 22,
   "metadata": {},
   "outputs": [
    {
     "data": {
      "text/plain": [
       "<AxesSubplot:>"
      ]
     },
     "execution_count": 22,
     "metadata": {},
     "output_type": "execute_result"
    },
    {
     "data": {
      "image/png": "[encoded data removed]",
      "text/plain": [
       "<Figure size 432x288 with 1 Axes>"
      ]
     },
     "metadata": {
      "needs_background": "light"
     },
     "output_type": "display_data"
    }
   ],
   "source": [
    "pca = PCA(n_components=2)\n",
    "scaler = StandardScaler()\n",
    "PCA_matrix = df.iloc[:,:-1].to_numpy() # data without labels\n",
    "PCA_matrix = scaler.fit_transform(PCA_matrix)\n",
    "PCA_matrix = pca.fit_transform(PCA_matrix)\n",
    "sns.scatterplot(x = PCA_matrix[:,0], y = PCA_matrix[:,1], hue = df[\"Fake\"])\n"
   ]
  },
  {
   "cell_type": "markdown",
   "metadata": {},
   "source": [
    "**Observations:**  \n",
    "The graph shows that given our features, the 2 groups can be perfectly separated with a line, which means:\n",
    "- The Features are fine, we don't need more work on it.\n",
    "- The 2 groups can be perfectly separated in a linear fashion which means even a Logistic Regression could get a score of 100%. This is interesting to know because if we tune it a bit, it could be a very simple and accurate model, which is perfect for production.\n",
    "\n",
    "As we don't want to spend much time on fine tuning, let's see if there's another classifier, besides the Logistic Regression, that get's us a 100% score with default parameters. \n",
    "\n",
    "**Model Selection Methodology:**  \n",
    "We will test the 4 following models:  LogisticRegression, GradientBoostingClassifier, RandomForestClassifier and SVM.\n",
    "We want to pick the most accurate model and the most robust. To do so, we will perform a 5 Stratified Kfold cross validation.\n",
    "For each model we compute the f1 score of each Kfold (Train and Test to make sure there is no overfitting) we then take the mean and the standard deviation to see which model has the best performances. We pick the F1 score as a metric because the dataset is imbalanced and we stratify so that we keep the same distribution as the original dataset.\n"
   ]
  },
  {
   "cell_type": "code",
   "execution_count": 23,
   "metadata": {},
   "outputs": [
    {
     "name": "stdout",
     "output_type": "stream",
     "text": [
      ">>> LogisticRegression()\n",
      "train mean score: 1.0 | train std score 0.0\n",
      "test mean score: 0.9983193277310924 | test std score 0.0033613445378151583\n",
      ">>> GradientBoostingClassifier(n_estimators=50)\n",
      "train mean score: 1.0 | train std score 0.0\n",
      "test mean score: 0.9983193277310924 | test std score 0.0033613445378151583\n",
      ">>> SVC()\n",
      "train mean score: 0.9995841995841996 | train std score 0.0008316008316008094\n",
      "test mean score: 0.9983193277310924 | test std score 0.0033613445378151583\n",
      ">>> RandomForestClassifier(n_estimators=50)\n",
      "train mean score: 1.0 | train std score 0.0\n",
      "test mean score: 1.0 | test std score 0.0\n"
     ]
    }
   ],
   "source": [
    "clf = LogisticRegression()\n",
    "gbc = GradientBoostingClassifier(n_estimators=50)\n",
    "svc = SVC()\n",
    "rfc = RandomForestClassifier(n_estimators=50)\n",
    "\n",
    "for model in [clf, gbc, svc, rfc]:\n",
    "    print(\">>>\", model)\n",
    "    scores = cross_validate(model, X, y, cv=5, scoring='f1', return_train_score=True)\n",
    "    print(\"train mean score:\", scores[\"train_score\"].mean(), \"|\", \"train std score\", scores[\"train_score\"].std())\n",
    "    print(\"test mean score:\", scores[\"test_score\"].mean(), \"|\", \"test std score\", scores[\"test_score\"].std())\n",
    "    "
   ]
  },
  {
   "cell_type": "markdown",
   "metadata": {},
   "source": [
    "The Random Forest Classifier is flawless. No overfitting, an average score of 100% and a standard deviation of 0.  \n",
    "This is the model that we are going to pick. Let's train it on 80% of the Data, validate it with the remaining 20%, and save it."
   ]
  },
  {
   "cell_type": "code",
   "execution_count": 24,
   "metadata": {},
   "outputs": [
    {
     "data": {
      "text/plain": [
       "<AxesSubplot:>"
      ]
     },
     "execution_count": 24,
     "metadata": {},
     "output_type": "execute_result"
    },
    {
     "data": {
      "image/png": "[encoded data removed]",
      "text/plain": [
       "<Figure size 432x288 with 2 Axes>"
      ]
     },
     "metadata": {
      "needs_background": "light"
     },
     "output_type": "display_data"
    }
   ],
   "source": [
    "sss = StratifiedShuffleSplit(n_splits=2, test_size=0.2, random_state=42)\n",
    "train_index, test_index = next(sss.split(X,y))\n",
    "X_train, X_test, y_train, y_test = X[train_index,:], X[test_index,:], y[train_index], y[test_index]\n",
    "rfc.fit(X_train, y_train)\n",
    "y_pred = rfc.predict(X_test)\n",
    "sns.heatmap(confusion_matrix(y_test, y_pred), annot= True)"
   ]
  },
  {
   "cell_type": "code",
   "execution_count": 25,
   "metadata": {},
   "outputs": [
    {
     "data": {
      "image/png": "[encoded data removed]",
      "text/plain": [
       "<Figure size 432x288 with 1 Axes>"
      ]
     },
     "metadata": {
      "needs_background": "light"
     },
     "output_type": "display_data"
    }
   ],
   "source": [
    "import matplotlib.pyplot as plt\n",
    "y_probs = rfc.predict_proba(X_test)[:,1]\n",
    "plt.hist(y_probs)\n",
    "plt.show()"
   ]
  },
  {
   "cell_type": "code",
   "execution_count": 27,
   "metadata": {},
   "outputs": [],
   "source": [
    "path_to_model = os.path.join(\"model\", \"RandomForestModel.sav\")\n",
    "with open(path_to_model, \"wb\") as f:\n",
    "    joblib.dump(rfc, f)\n"
   ]
  },
  {
   "cell_type": "markdown",
   "metadata": {},
   "source": [
    "## Results on Test set"
   ]
  },
  {
   "cell_type": "code",
   "execution_count": 28,
   "metadata": {},
   "outputs": [],
   "source": [
    "rfc = joblib.load(path_to_model)"
   ]
  },
  {
   "cell_type": "code",
   "execution_count": 29,
   "metadata": {},
   "outputs": [],
   "source": [
    "\n",
    "vectorizer = CountVectorizer()\n",
    "dataset = pd.read_csv(os.path.join('data', 'fake_users_test.csv'))\n",
    "df = dataset.groupby(\"UserId\")[[\"Event\", \"Category\"]].agg({\"Event\":[\"count\", \"nunique\"], \"Category\": \"nunique\"})\n",
    "df.columns = [\" \".join(item) for item in df.columns]\n",
    "#events distribution\n",
    "corpus = dataset.groupby(\"UserId\")[[\"Event\", \"Fake\"]].agg({\"Event\":get_list, \"Fake\": \"min\"})\n",
    "X = vectorizer.fit_transform(corpus[\"Event\"])\n",
    "event_distribution = pd.DataFrame(X.todense(), columns = vectorizer.get_feature_names_out(), index = corpus.index)\n",
    "event_distribution[\"Fake\"] = corpus[\"Fake\"]\n",
    "#merge\n",
    "df = df.merge(event_distribution, left_index = True, right_index = True)\n",
    "\n",
    "scaler = StandardScaler()\n",
    "X_test = df.iloc[:,:-1].to_numpy()\n",
    "X_test = scaler.fit_transform(X_test)\n",
    "y_test = df.iloc[:,-1].to_numpy()"
   ]
  },
  {
   "cell_type": "code",
   "execution_count": 30,
   "metadata": {},
   "outputs": [
    {
     "name": "stdout",
     "output_type": "stream",
     "text": [
      "              precision    recall  f1-score   support\n",
      "\n",
      "           0       1.00      1.00      1.00       142\n",
      "           1       1.00      1.00      1.00        10\n",
      "\n",
      "    accuracy                           1.00       152\n",
      "   macro avg       1.00      1.00      1.00       152\n",
      "weighted avg       1.00      1.00      1.00       152\n",
      "\n"
     ]
    }
   ],
   "source": [
    "y_pred = rfc.predict(X_test)\n",
    "print(classification_report(y_test, y_pred))"
   ]
  },
  {
   "cell_type": "code",
   "execution_count": 31,
   "metadata": {},
   "outputs": [
    {
     "data": {
      "text/html": [
       "<div>\n",
       "<style scoped>\n",
       "    .dataframe tbody tr th:only-of-type {\n",
       "        vertical-align: middle;\n",
       "    }\n",
       "\n",
       "    .dataframe tbody tr th {\n",
       "        vertical-align: top;\n",
       "    }\n",
       "\n",
       "    .dataframe thead th {\n",
       "        text-align: right;\n",
       "    }\n",
       "</style>\n",
       "<table border=\"1\" class=\"dataframe\">\n",
       "  <thead>\n",
       "    <tr style=\"text-align: right;\">\n",
       "      <th></th>\n",
       "      <th>is_fake_probability</th>\n",
       "    </tr>\n",
       "    <tr>\n",
       "      <th>UserId</th>\n",
       "      <th></th>\n",
       "    </tr>\n",
       "  </thead>\n",
       "  <tbody>\n",
       "    <tr>\n",
       "      <th>02B1149F07T</th>\n",
       "      <td>0.0</td>\n",
       "    </tr>\n",
       "    <tr>\n",
       "      <th>03E7EE785DT</th>\n",
       "      <td>0.0</td>\n",
       "    </tr>\n",
       "    <tr>\n",
       "      <th>09F94548B6T</th>\n",
       "      <td>0.0</td>\n",
       "    </tr>\n",
       "    <tr>\n",
       "      <th>0AA15A16ECT</th>\n",
       "      <td>0.0</td>\n",
       "    </tr>\n",
       "    <tr>\n",
       "      <th>0BADFD7019T</th>\n",
       "      <td>0.0</td>\n",
       "    </tr>\n",
       "    <tr>\n",
       "      <th>...</th>\n",
       "      <td>...</td>\n",
       "    </tr>\n",
       "    <tr>\n",
       "      <th>F866660C47T</th>\n",
       "      <td>0.0</td>\n",
       "    </tr>\n",
       "    <tr>\n",
       "      <th>F8B01BC688T</th>\n",
       "      <td>0.0</td>\n",
       "    </tr>\n",
       "    <tr>\n",
       "      <th>F9D53E8A10T</th>\n",
       "      <td>0.0</td>\n",
       "    </tr>\n",
       "    <tr>\n",
       "      <th>FCE3B5A371T</th>\n",
       "      <td>0.0</td>\n",
       "    </tr>\n",
       "    <tr>\n",
       "      <th>FD0A813D4CT</th>\n",
       "      <td>0.0</td>\n",
       "    </tr>\n",
       "  </tbody>\n",
       "</table>\n",
       "<p>152 rows × 1 columns</p>\n",
       "</div>"
      ],
      "text/plain": [
       "             is_fake_probability\n",
       "UserId                          \n",
       "02B1149F07T                  0.0\n",
       "03E7EE785DT                  0.0\n",
       "09F94548B6T                  0.0\n",
       "0AA15A16ECT                  0.0\n",
       "0BADFD7019T                  0.0\n",
       "...                          ...\n",
       "F866660C47T                  0.0\n",
       "F8B01BC688T                  0.0\n",
       "F9D53E8A10T                  0.0\n",
       "FCE3B5A371T                  0.0\n",
       "FD0A813D4CT                  0.0\n",
       "\n",
       "[152 rows x 1 columns]"
      ]
     },
     "execution_count": 31,
     "metadata": {},
     "output_type": "execute_result"
    }
   ],
   "source": [
    "#Pipeline\n",
    "path_to_model = os.path.join(\"model\", \"RandomForestModel.sav\")\n",
    "# input\n",
    "\n",
    "dataset = pd.read_csv(os.path.join(\"data\",\"fake_users_test.csv\"))\n",
    "model =joblib.load(path_to_model)\n",
    "\n",
    "#X\n",
    "df = dataset.groupby(\"UserId\")[[\"Event\", \"Category\"]].agg({\"Event\":[\"count\", \"nunique\"], \"Category\": \"nunique\"})\n",
    "df.columns = [\" \".join(item) for item in df.columns]\n",
    "corpus = dataset.groupby(\"UserId\")[[\"Event\"]].agg(get_list)\n",
    "X = vectorizer.fit_transform(corpus[\"Event\"])\n",
    "event_distribution = pd.DataFrame(X.todense(), columns = vectorizer.get_feature_names_out(), index = corpus.index)\n",
    "#merge\n",
    "df = df.merge(event_distribution, left_index = True, right_index = True)\n",
    "scaler = StandardScaler()\n",
    "X = scaler.fit_transform(df)\n",
    "\n",
    "#output\n",
    "y_probs = model.predict_proba(X)[:,1]\n",
    "output = pd.DataFrame(y_probs, index = df.index, columns = [\"is_fake_probability\"])\n",
    "output"
   ]
  },
  {
   "cell_type": "markdown",
   "metadata": {},
   "source": [
    "## Ideas to enhance the model\n",
    "\n",
    "Firstly, we have to keep in mind that we worked only with Data coming from  a 5 minutes batch. If we perform well on this Dataset, it doesn't mean it will be the case in the future. Indeed, maybe we had luck, it was an easy one, and maybe the behaviour of the bots will change in the future. So we need to constantly improve our model. That is to say retraining the model on new data frequently, in case of a change in distribution.\n",
    "\n",
    "To be even more robust, We could collect more data on users, such as:\n",
    "- Ip adress of the user\n",
    "- Browser of the user (Chrome, Opera, Safari, Firefox...)\n",
    "\n",
    "In my experience, many many bots are working by default on a Firefox device. Furthermore we must pay attention to users coming from unusual countries. Lastly, we must Re-train frequently the model with new Data to prevent Data Drift."
   ]
  },
  {
   "cell_type": "markdown",
   "metadata": {},
   "source": []
  }
 ],
 "metadata": {
  "interpreter": {
   "hash": "1a1716f42ac06625fc9064efa784cbbcb72acf33b466051d2552a87bcba1e0c5"
  },
  "kernelspec": {
   "display_name": "Python 3.9.7 64-bit ('py39': conda)",
   "language": "python",
   "name": "python3"
  },
  "language_info": {
   "codemirror_mode": {
    "name": "ipython",
    "version": 3
   },
   "file_extension": ".py",
   "mimetype": "text/x-python",
   "name": "python",
   "nbconvert_exporter": "python",
   "pygments_lexer": "ipython3",
   "version": "3.9.7"
  },
  "orig_nbformat": 4
 },
 "nbformat": 4,
 "nbformat_minor": 2
}
